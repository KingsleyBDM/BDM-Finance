{
 "cells": [
  {
   "cell_type": "code",
   "execution_count": 11,
   "id": "2bffa5f5-755b-4289-b14c-9c628f54bb93",
   "metadata": {},
   "outputs": [
    {
     "name": "stdout",
     "output_type": "stream",
     "text": [
      "27.4 6000000 Hydrige Ltd False\n",
      "Hydrige Ltd has a stock price of 27.4 and a revenue of 6,000,000.00 this year.\n",
      "revenue: $6,000,000.00\n",
      "Hydrige Ltd has a stock price of 27.4 and a revenue of $6,000,000.00 this year.\n",
      "Hydrige Ltd has a stock price of 27.4 and a revenue of N6,000,000.00 this year.\n"
     ]
    }
   ],
   "source": [
    "stock_price = 27.40 #float\n",
    "revenue = 6000000 #int\n",
    "company_name = \"Hydrige Ltd\" #string\n",
    "is_loss = False #boolean\n",
    "currency = \"$\"\n",
    "\n",
    "print(stock_price, revenue, company_name, is_loss)\n",
    "print(f\"{company_name} has a stock price of {stock_price} and a revenue of {revenue:,.2f} this year.\")\n",
    "print(f\"revenue: {currency}{revenue:,.2f}\")\n",
    "print(f\"{company_name} has a stock price of {stock_price} and a revenue of {currency}{revenue:,.2f} this year.\")\n",
    "print(f\"{company_name} has a stock price of {stock_price} and a revenue of N{revenue:,.2f} this year.\")"
   ]
  },
  {
   "cell_type": "code",
   "execution_count": 10,
   "id": "1093c659-5d73-436a-afe8-8bc61416adfe",
   "metadata": {},
   "outputs": [
    {
     "name": "stdout",
     "output_type": "stream",
     "text": [
      "profit: N1,800,000.00\n"
     ]
    }
   ],
   "source": [
    "revenue = 5000000\n",
    "expenses = 3200000\n",
    "profit = revenue - expenses\n",
    "print(f\"profit: N{profit:,.2f}\")"
   ]
  },
  {
   "cell_type": "code",
   "execution_count": 12,
   "id": "c5ba195d-2907-4a91-b78c-6cedff95a611",
   "metadata": {},
   "outputs": [
    {
     "name": "stdout",
     "output_type": "stream",
     "text": [
      "ROI:56.25\n"
     ]
    }
   ],
   "source": [
    "ROI = (profit/expenses) * 100\n",
    "print(f\"ROI:{ROI:,.2f}\")"
   ]
  },
  {
   "cell_type": "code",
   "execution_count": 16,
   "id": "7f5231d5-d957-4ee8-8c00-70a215e63f5a",
   "metadata": {},
   "outputs": [
    {
     "name": "stdin",
     "output_type": "stream",
     "text": [
      "Enter your investment amount ($): 50000000\n",
      "Enter return amount ($): 65000000\n"
     ]
    },
    {
     "name": "stdout",
     "output_type": "stream",
     "text": [
      "Your ROI is 30.00%\n"
     ]
    }
   ],
   "source": [
    "investment = float(input(\"Enter your investment amount ($):\"))\n",
    "return_amount = float(input(\"Enter return amount ($):\"))\n",
    "\n",
    "roi = ((return_amount - investment)/investment) * 100\n",
    "print(f\"Your ROI is {roi:.2f}%\")"
   ]
  },
  {
   "cell_type": "code",
   "execution_count": 18,
   "id": "7186f753-5721-411b-8a5b-23aeb340e40b",
   "metadata": {},
   "outputs": [
    {
     "name": "stdout",
     "output_type": "stream",
     "text": [
      " Hydrige Ltd made N1,800,000.00 this year.\n"
     ]
    }
   ],
   "source": [
    "company_name =  \"Hydrige Ltd\"\n",
    "annual_revenue = 5000000000\n",
    "annual_expenses = 350000000\n",
    "currency = \"N\"\n",
    "print(f\" {company_name} made {currency}{profit:,.2f} this year.\")"
   ]
  },
  {
   "cell_type": "code",
   "execution_count": 20,
   "id": "eafc4a96-5e9c-4d56-96c9-308dfaf1b7be",
   "metadata": {},
   "outputs": [
    {
     "name": "stdout",
     "output_type": "stream",
     "text": [
      "Your investment outperformed the bank rate!\n"
     ]
    }
   ],
   "source": [
    "roi = 25\n",
    "bank_rate = 15\n",
    "\n",
    "if roi > bank_rate: print(\"Your investment outperformed the bank rate!\")\n",
    "else: print(\"Your investment underperformed compared to the bank.\")"
   ]
  },
  {
   "cell_type": "code",
   "execution_count": 27,
   "id": "c210519d-f37b-400c-9621-badc20104c9b",
   "metadata": {},
   "outputs": [
    {
     "name": "stdout",
     "output_type": "stream",
     "text": [
      "Month1:N500,000.00\n",
      "Month2:N550,000.00\n",
      "Month3:N480,000.00\n",
      "Month4:N600,000.00\n",
      "remaining budget: N9,000,000.00\n",
      "remaining budget: N8,000,000.00\n",
      "remaining budget: N7,000,000.00\n",
      "remaining budget: N6,000,000.00\n",
      "remaining budget: N5,000,000.00\n"
     ]
    }
   ],
   "source": [
    "revenues = [500000, 550000, 480000, 600000]\n",
    "for month, rev in enumerate(revenues, start=1):print(f\"Month{month}:N{rev:,.2f}\")\n",
    "\n",
    "budget = 10000000\n",
    "while budget > 5000000:\n",
    "    budget -=1000000\n",
    "    print(f\"remaining budget: N{budget:,.2f}\")"
   ]
  },
  {
   "cell_type": "code",
   "execution_count": 22,
   "id": "91182927-fbb4-4d1d-822c-27b2d8f2fe8d",
   "metadata": {},
   "outputs": [
    {
     "name": "stdout",
     "output_type": "stream",
     "text": [
      "remaining budget: N0.00\n"
     ]
    }
   ],
   "source": [
    "budget = 5000000\n",
    "while budget > 0: budget -= 1000000\n",
    "print(f\"remaining budget: N{budget:,.2f}\")"
   ]
  },
  {
   "cell_type": "code",
   "execution_count": 36,
   "id": "72f4d5ad-33e3-4009-ae1f-8da61712ec99",
   "metadata": {},
   "outputs": [
    {
     "name": "stdout",
     "output_type": "stream",
     "text": [
      "roi: 1900.00%\n"
     ]
    }
   ],
   "source": [
    "def calculate_roi(investment, return_amount):\n",
    "    \"\"\"Calculates Return on Investment(ROI) percentage.\"\"\"\n",
    "    return ((return_amount - investment) / investment) * 100\n",
    "\n",
    "roi = calculate_roi(10000000, 200000000)\n",
    "print(f\"roi: {roi:.2f}%\")"
   ]
  },
  {
   "cell_type": "code",
   "execution_count": 40,
   "id": "d491bc23-a8c6-4db1-bdb9-d4e6df8557ae",
   "metadata": {},
   "outputs": [
    {
     "name": "stdin",
     "output_type": "stream",
     "text": [
      "Enter revenue for month 1:  1000000\n",
      "Enter expenses for month 1:  200000\n",
      "Enter revenue for month 2:  1200000\n",
      "Enter expenses for month 2:  250000\n",
      "Enter revenue for month 3:  1400000\n",
      "Enter expenses for month 3:  150000\n",
      "Enter revenue for month 4:  1400000\n",
      "Enter expenses for month 4:  110000\n",
      "Enter revenue for month 5:  2000000\n",
      "Enter expenses for month 5:  90000\n",
      "Enter revenue for month 6:  1800000\n",
      "Enter expenses for month 6:  260000\n",
      "Enter revenue for month 7:  1700000\n",
      "Enter expenses for month 7:  350000\n",
      "Enter revenue for month 8:  900000\n",
      "Enter expenses for month 8:  800000\n",
      "Enter revenue for month 9:  1000000\n",
      "Enter expenses for month 9:  650000\n",
      "Enter revenue for month 10:  3000000\n",
      "Enter expenses for month 10:  1500000\n",
      "Enter revenue for month 11:  2000000\n",
      "Enter expenses for month 11:  800000\n",
      "Enter revenue for month 12:  1200000\n",
      "Enter expenses for month 12:  400000\n"
     ]
    },
    {
     "name": "stdout",
     "output_type": "stream",
     "text": [
      "Annual Profit: $800,000.00\n",
      "Average Monthly Profit: $66,666.67\n",
      "Annual Expenses: $400,000.00\n"
     ]
    }
   ],
   "source": [
    "annual_revenue = 0\n",
    "annual_expenses = 0\n",
    "for month in range(1, 13):\n",
    "    rev = float(input(f\"Enter revenue for month {month}: \"))\n",
    "    exp = float(input(f\"Enter expenses for month {month}: \"))\n",
    "\n",
    "annual_revenue += rev\n",
    "annual_expenses += exp\n",
    "\n",
    "annual_profit = annual_revenue - annual_expenses\n",
    "\n",
    "avg_monthly_profit = annual_profit / 12\n",
    "\n",
    "print(f\"Annual Profit: ${annual_profit:,.2f}\")\n",
    "print(f\"Average Monthly Profit: ${avg_monthly_profit:,.2f}\")\n",
    "print(f\"Annual Expenses: ${annual_expenses:,.2f}\")"
   ]
  },
  {
   "cell_type": "code",
   "execution_count": null,
   "id": "4d44515f-82cf-4e44-895f-704aa0314d14",
   "metadata": {},
   "outputs": [],
   "source": []
  },
  {
   "cell_type": "code",
   "execution_count": 44,
   "id": "6bae53c8-d30e-4018-837e-feef1e265208",
   "metadata": {},
   "outputs": [
    {
     "name": "stdin",
     "output_type": "stream",
     "text": [
      "Enter revenue for month 1:  10\n",
      " Enter expenses for month 1:  2\n",
      "Enter revenue for month 2:  20\n",
      " Enter expenses for month 2:  10\n",
      "Enter revenue for month 3:  30\n",
      " Enter expenses for month 3:  20\n",
      "Enter revenue for month 4:  40\n",
      " Enter expenses for month 4:  30\n",
      "Enter revenue for month 5:  50\n",
      " Enter expenses for month 5:  40\n",
      "Enter revenue for month 6:  60\n",
      " Enter expenses for month 6:  50\n",
      "Enter revenue for month 7:  70\n",
      " Enter expenses for month 7:  60\n",
      "Enter revenue for month 8:  80\n",
      " Enter expenses for month 8:  70\n",
      "Enter revenue for month 9:  90\n",
      " Enter expenses for month 9:  80\n",
      "Enter revenue for month 10:  100\n",
      " Enter expenses for month 10:  90\n",
      "Enter revenue for month 11:  110\n",
      " Enter expenses for month 11:  100\n",
      "Enter revenue for month 12:  120\n",
      " Enter expenses for month 12:  110\n"
     ]
    },
    {
     "name": "stdout",
     "output_type": "stream",
     "text": [
      " Annual Profit: N7,500,610.00\n",
      " Average Monthly Profit: N625,050.83\n",
      " Annual Revenue: N7,500,720.00\n",
      " Annual Expenses: N110.00\n"
     ]
    }
   ],
   "source": [
    "# annual_revenue = 0\n",
    "annual_expenses = 0\n",
    "for month in range(1, 13):\n",
    "    rev = float(input(f\"Enter revenue for month {month}: \"))\n",
    "    exp = float(input(f\" Enter expenses for month {month}: \"))\n",
    "\n",
    "\n",
    "annual_revenue += rev\n",
    "annual_expenses += exp\n",
    "annual_profit = annual_revenue - annual_expenses\n",
    "avg_monthly_profit = annual_profit / 12\n",
    "\n",
    "print (f\" Annual Profit: N{annual_profit:,.2f}\")\n",
    "print (f\" Average Monthly Profit: N{avg_monthly_profit:,.2f}\")\n",
    "print (f\" Annual Revenue: N{annual_revenue:,.2f}\")\n",
    "print (f\" Annual Expenses: N{annual_expenses:,.2f}\")"
   ]
  },
  {
   "cell_type": "code",
   "execution_count": 4,
   "id": "47f70f2e-81d7-4539-8358-d296313a0faa",
   "metadata": {},
   "outputs": [
    {
     "name": "stdin",
     "output_type": "stream",
     "text": [
      " Enter revenue for month 1:  1000000\n",
      " Enter expenses for month 1:  250000\n",
      " Enter revenue for month 2:  2000000\n",
      " Enter expenses for month 2:  350000\n",
      " Enter revenue for month 3:  3000000\n",
      " Enter expenses for month 3:  450000\n",
      " Enter revenue for month 4:  4000000\n",
      " Enter expenses for month 4:  550000\n",
      " Enter revenue for month 5:  5000000\n",
      " Enter expenses for month 5:  650000\n",
      " Enter revenue for month 6:  6000000\n",
      " Enter expenses for month 6:  750000\n"
     ]
    },
    {
     "name": "stdout",
     "output_type": "stream",
     "text": [
      "Total profit: N18,000,000.00\n",
      "Average Monthly Profit: N3,000,000.00\n",
      "Highest Monthly Profit: N5,250,000.00\n",
      "Lowest Monthly Profit: N750,000.00\n"
     ]
    }
   ],
   "source": [
    "six_month_revenue = 0\n",
    "six_month_expenses = 0\n",
    "monthly_profits = []\n",
    "monthly_expenses = []\n",
    "\n",
    "for month in range(1, 7):\n",
    "    rev = float(input(f\" Enter revenue for month {month}: \"))\n",
    "    exp = float(input(f\" Enter expenses for month {month}: \"))\n",
    "\n",
    "    six_month_revenue += rev\n",
    "    six_month_expenses += exp\n",
    "\n",
    "    monthly_profit = rev - exp\n",
    "    monthly_expense = exp\n",
    "    monthly_profits.append(monthly_profit)\n",
    "    monthly_expenses.append(monthly_expense)\n",
    "\n",
    "total_profit = six_month_revenue - six_month_expenses\n",
    "avg_monthly_profit = total_profit / 6\n",
    "\n",
    "highest_profit = max(monthly_profits)\n",
    "lowest_profit = min(monthly_profits)\n",
    "\n",
    "print(f\"Total profit: N{total_profit:,.2f}\")\n",
    "print(f\"Average Monthly Profit: N{avg_monthly_profit:,.2f}\")\n",
    "print(f\"Highest Monthly Profit: N{highest_profit:,.2f}\")\n",
    "print(f\"Lowest Monthly Profit: N{lowest_profit:,.2f}\")"
   ]
  },
  {
   "cell_type": "code",
   "execution_count": 5,
   "id": "32b00e07-6616-4733-b596-f915e94d5d04",
   "metadata": {},
   "outputs": [
    {
     "name": "stdin",
     "output_type": "stream",
     "text": [
      "Enter revenue for month 1:  1000000\n",
      "Enter expenses for month 1:  500000\n",
      "Enter revenue for month 2:  1100000\n",
      "Enter expenses for month 2:  550000\n",
      "Enter revenue for month 3:  1200000\n",
      "Enter expenses for month 3:  600000\n",
      "Enter revenue for month 4:  1300000\n",
      "Enter expenses for month 4:  650000\n",
      "Enter revenue for month 5:  1400000\n",
      "Enter expenses for month 5:  700000\n",
      "Enter revenue for month 6:  1500000\n",
      "Enter expenses for month 6:  750000\n"
     ]
    },
    {
     "name": "stdout",
     "output_type": "stream",
     "text": [
      " Total Profit: N3,750,000.00\n",
      " Average Monthly Profit: N625,000.00\n",
      "Highest Monthly Profit: N750,000.00\n",
      "Lowest Monthly Profit: N500,000.00\n"
     ]
    }
   ],
   "source": [
    "\n",
    "six_month_revenue = 0\n",
    "six_month_expenses = 0\n",
    "monthly_profits = []\n",
    "\n",
    "for month in range(1, 7):\n",
    "    rev = float(input(f\"Enter revenue for month {month}: \"))\n",
    "    exp = float(input(f\"Enter expenses for month {month}: \"))\n",
    "\n",
    "    six_month_revenue += rev\n",
    "    six_month_expenses += exp\n",
    "\n",
    "    monthly_profit = rev - exp\n",
    "    monthly_profits.append(monthly_profit)\n",
    "\n",
    "total_profit = six_month_revenue - six_month_expenses\n",
    "avg_monthly_profit = total_profit / 6\n",
    "highest_profit = max(monthly_profits)\n",
    "lowest_profit = min(monthly_profits)\n",
    "\n",
    "print(f\" Total Profit: N{total_profit:,.2f}\")\n",
    "print(f\" Average Monthly Profit: N{avg_monthly_profit:,.2f}\")\n",
    "print(f\"Highest Monthly Profit: N{highest_profit:,.2f}\")\n",
    "print(f\"Lowest Monthly Profit: N{lowest_profit:,.2f}\")"
   ]
  },
  {
   "cell_type": "code",
   "execution_count": 8,
   "id": "0b2a10a0-8157-40f7-9d9b-712cb0c7f31f",
   "metadata": {},
   "outputs": [
    {
     "name": "stdin",
     "output_type": "stream",
     "text": [
      "Enter investment:  50000000\n",
      "Enter returns:  100000000\n"
     ]
    },
    {
     "name": "stdout",
     "output_type": "stream",
     "text": [
      "ROI: 100.00%\n"
     ]
    }
   ],
   "source": [
    "try:\n",
    "    investment = float(input(\"Enter investment: \"))\n",
    "    returns = float(input(\"Enter returns: \"))\n",
    "    roi = ((returns -investment) / investment) * 100\n",
    "    print(f\"ROI: {roi:.2f}%\")\n",
    "except ValueError:\n",
    "    print(\"Please enter numbers only!\")"
   ]
  },
  {
   "cell_type": "code",
   "execution_count": 13,
   "id": "de5c3fc7-4587-47a7-a99e-3d10836f11b6",
   "metadata": {},
   "outputs": [
    {
     "name": "stdout",
     "output_type": "stream",
     "text": [
      "{'Revenue': 5000000, 'Expenses': 3200000, 'Profit': 1800000, 'ROI': 56.25}\n"
     ]
    }
   ],
   "source": [
    "def financial_summary(revenue, expenses):\n",
    "    profit = revenue - expenses\n",
    "    return {\n",
    "        \"Revenue\": revenue, \n",
    "        \"Expenses\": expenses, \n",
    "        \"Profit\": profit, \n",
    "        \"ROI\": (profit / expenses) *100 \n",
    "    }\n",
    "\n",
    "    \n",
    "    \n",
    "summary = financial_summary (5000000, 3200000)\n",
    "print(summary)"
   ]
  },
  {
   "cell_type": "code",
   "execution_count": 15,
   "id": "fa1f96d5-9229-4ba2-9b31-358a28c7a601",
   "metadata": {},
   "outputs": [
    {
     "name": "stdout",
     "output_type": "stream",
     "text": [
      "====FINANCIAL SUMMARY =====\n",
      " Revenue: N5,000,000.00\n",
      " Expenses: N3,200,000.00\n",
      " Profit: N1,800,000.00\n",
      " ROI    :56.25%\n",
      "=========================\n"
     ]
    }
   ],
   "source": [
    "def financial_summary(revenue, expenses):\n",
    "    profit =revenue - expenses\n",
    "    roi = (profit / expenses) * 100\n",
    "\n",
    "    print(\"====FINANCIAL SUMMARY =====\")\n",
    "    print(f\" Revenue: N{revenue:,.2f}\")\n",
    "    print(f\" Expenses: N{expenses:,.2f}\")\n",
    "    print(f\" Profit: N{profit:,.2f}\")\n",
    "    print(f\" ROI    :{roi:.2f}%\")\n",
    "    print(\"=========================\")\n",
    "\n",
    "financial_summary(5000000, 3200000)"
   ]
  },
  {
   "cell_type": "code",
   "execution_count": 1,
   "id": "f3281221-634e-4fb2-bbf9-adb301632911",
   "metadata": {},
   "outputs": [
    {
     "name": "stdin",
     "output_type": "stream",
     "text": [
      "company name Hydrige \n",
      "Enter revenue for Hydrige : N 100\n",
      "Enter expenses for Hydrige : N 20\n"
     ]
    },
    {
     "name": "stdout",
     "output_type": "stream",
     "text": [
      "\n",
      "======FINANCIAL SUMMARY=====\n",
      "Company : Hydrige \n",
      "Revenue : N100.00\n",
      "Expenses: N20.00\n",
      "Profit  : N80.00\n",
      "ROI     :  400.00%\n",
      "==============================\n"
     ]
    }
   ],
   "source": [
    "def financial_summary(): \n",
    "    company = input(\"company name\")\n",
    "\n",
    "    while True:\n",
    "        try:\n",
    "            revenue = float(input(f\"Enter revenue for {company}: N\"))\n",
    "            expenses = float(input(f\"Enter expenses for {company}: N\"))\n",
    "            break\n",
    "        except ValueError:\n",
    "            print(\"Please enter a valid number for revenue and expenses.\")\n",
    "\n",
    "    profit = revenue - expenses\n",
    "    roi = (profit / expenses) * 100\n",
    "\n",
    "    print(\"\\n======FINANCIAL SUMMARY=====\")\n",
    "    print(f\"Company : {company}\")\n",
    "    print(f\"Revenue : N{revenue:,.2f}\")\n",
    "    print(f\"Expenses: N{expenses:,.2f}\")\n",
    "    print(f\"Profit  : N{profit:,.2f}\")\n",
    "    print(f\"ROI     :  {roi:.2f}%\")\n",
    "    print(\"==============================\")\n",
    "\n",
    "financial_summary()\n",
    "    "
   ]
  },
  {
   "cell_type": "code",
   "execution_count": null,
   "id": "6ef583c3-50ab-49b8-8531-a2432338d253",
   "metadata": {},
   "outputs": [],
   "source": []
  }
 ],
 "metadata": {
  "kernelspec": {
   "display_name": "Python 3 (ipykernel)",
   "language": "python",
   "name": "python3"
  },
  "language_info": {
   "codemirror_mode": {
    "name": "ipython",
    "version": 3
   },
   "file_extension": ".py",
   "mimetype": "text/x-python",
   "name": "python",
   "nbconvert_exporter": "python",
   "pygments_lexer": "ipython3",
   "version": "3.13.6"
  }
 },
 "nbformat": 4,
 "nbformat_minor": 5
}
